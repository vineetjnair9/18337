{
 "cells": [
  {
   "cell_type": "markdown",
   "metadata": {},
   "source": [
    "## Define Operator Algebra"
   ]
  },
  {
   "cell_type": "code",
   "execution_count": 1,
   "metadata": {},
   "outputs": [
    {
     "data": {
      "text/plain": [
       "+ (generic function with 209 methods)"
      ]
     },
     "execution_count": 1,
     "metadata": {},
     "output_type": "execute_result"
    }
   ],
   "source": [
    "using LinearAlgebra\n",
    "\n",
    "struct Operator  # Linear Matrix Operators from Matrices to Matrices (and the operator adjoint)\n",
    "    op\n",
    "    adj\n",
    "    sym\n",
    "end\n",
    "\n",
    "## Operators\n",
    "ℒ(A::Matrix)  = Operator(X->A*X   , X->A'*X, \"ℒ$(size(A))\"  )   # left multiply by A (X → AX)\n",
    "ℛ(A::Matrix)  = Operator(X->X*A   , X->X*A', \"ℛ$(size(A))\")     # right multiply by A (X → XA)\n",
    "ℋ(A::Matrix)  = Operator(X->X.*A  , X->X.*A, \"ℋ$(size(A))\")    # Hadamard product (elementwise product)\n",
    "ℐ()  =          Operator(X->X      ,    X->X,    \"I\")     # identity operator\n",
    "𝒪()  =          Operator(X->zero(X) , X->zero(X),\"𝒪\")# zero operator\n",
    "\n",
    "import Base:  zero, show, adjoint, *, \\, ∘, +, -\n",
    "show(io::IO, M::Operator) = print(io, M.sym)  # pretty printing\n",
    "zero(::Any) = 𝒪() # Let's make any undefined zero the 𝒪 operator\n",
    "adjoint(A::Operator) = Operator(A.adj, A.op,  \"(\"*A.sym*\")'\")\n",
    "adjoint(B::Bidiagonal) = Bidiagonal(adjoint.(B.dv),adjoint.(B.ev),(B.uplo == 'U') ? :L : :U) # lower to upper\n",
    "-(A::Operator) = Operator(X->-A.op(X), X->-A.adj(X),\"-\"*A.sym)\n",
    "-(::typeof(𝒪), X::Matrix) = -X # 𝒪 - X should be -X\n",
    "*(A::Operator, X::Matrix) = A.op(X)\n",
    "\\(ℐ::typeof(ℐ()), A::Matrix) = A\n",
    "∘(A::Operator, B::Operator) = Operator(A.op ∘ B.op, B.adj ∘ A.adj, A.sym*\"∘\"*B.sym)\n",
    "# We need [A;B]*C to somehow magically be [AC;BC]\n",
    "*(M::Adjoint{Operator, Matrix{Operator}},v::Array) = M .* [v]\n",
    "+(A::Array,x::Number)=A.+x"
   ]
  },
  {
   "cell_type": "markdown",
   "metadata": {},
   "source": [
    "## Example"
   ]
  },
  {
   "cell_type": "code",
   "execution_count": 2,
   "metadata": {},
   "outputs": [
    {
     "data": {
      "text/plain": [
       "ℒ(2, 2)"
      ]
     },
     "execution_count": 2,
     "metadata": {},
     "output_type": "execute_result"
    }
   ],
   "source": [
    "# Basic Test\n",
    "B = [ 1 2; 3 4]\n",
    "M = [10 1;1 10]\n",
    "C = [ 2 5;4 6]\n",
    "ℒ(M)"
   ]
  },
  {
   "cell_type": "code",
   "execution_count": 3,
   "metadata": {},
   "outputs": [
    {
     "data": {
      "text/plain": [
       "2×2 Matrix{Int64}:\n",
       " 10   1\n",
       "  1  10"
      ]
     },
     "execution_count": 3,
     "metadata": {},
     "output_type": "execute_result"
    }
   ],
   "source": [
    "ℒ(M) * [ 1 0 ;0 1]"
   ]
  },
  {
   "cell_type": "code",
   "execution_count": 4,
   "metadata": {},
   "outputs": [
    {
     "data": {
      "text/plain": [
       "2×2 Matrix{Int64}:\n",
       " 13  24\n",
       " 31  42"
      ]
     },
     "execution_count": 4,
     "metadata": {},
     "output_type": "execute_result"
    }
   ],
   "source": [
    "ℒ(M) * B "
   ]
  },
  {
   "cell_type": "code",
   "execution_count": 5,
   "metadata": {},
   "outputs": [
    {
     "data": {
      "text/plain": [
       "2×2 Matrix{Int64}:\n",
       " 12  21\n",
       " 34  43"
      ]
     },
     "execution_count": 5,
     "metadata": {},
     "output_type": "execute_result"
    }
   ],
   "source": [
    "ℛ(M) * B "
   ]
  },
  {
   "cell_type": "code",
   "execution_count": 6,
   "metadata": {},
   "outputs": [
    {
     "data": {
      "text/plain": [
       "2×2 Matrix{Int64}:\n",
       " 10   2\n",
       "  3  40"
      ]
     },
     "execution_count": 6,
     "metadata": {},
     "output_type": "execute_result"
    }
   ],
   "source": [
    "ℋ(M) * B"
   ]
  },
  {
   "cell_type": "code",
   "execution_count": 7,
   "metadata": {},
   "outputs": [
    {
     "data": {
      "text/plain": [
       "(522, 529)"
      ]
     },
     "execution_count": 7,
     "metadata": {},
     "output_type": "execute_result"
    }
   ],
   "source": [
    "tr( B'*(ℒ(M)*C) ), tr( (ℒ(M)'*B) *C)    # <B,ℒC>=<ℒ'B,C>"
   ]
  },
  {
   "cell_type": "code",
   "execution_count": 8,
   "metadata": {},
   "outputs": [
    {
     "data": {
      "text/plain": [
       "3×3 Matrix{Operator}:\n",
       " I        𝒪        𝒪\n",
       " ℒ(2, 2)  I        𝒪\n",
       " 𝒪        ℒ(2, 2)  I"
      ]
     },
     "metadata": {},
     "output_type": "display_data"
    }
   ],
   "source": [
    "B = [ 1 2; 3 4]\n",
    "M = Bidiagonal( [ℐ(),ℐ(),ℐ()] , [ℒ(B),ℒ(B)], :L)\n",
    "display(Matrix(M))"
   ]
  },
  {
   "cell_type": "code",
   "execution_count": 9,
   "metadata": {},
   "outputs": [
    {
     "data": {
      "text/plain": [
       "3×3 Matrix{Operator}:\n",
       " (I)'  (ℒ(2, 2))'  𝒪\n",
       " 𝒪     (I)'        (ℒ(2, 2))'\n",
       " 𝒪     𝒪           (I)'"
      ]
     },
     "metadata": {},
     "output_type": "display_data"
    }
   ],
   "source": [
    "display(Matrix(M'))"
   ]
  },
  {
   "cell_type": "code",
   "execution_count": 10,
   "metadata": {},
   "outputs": [
    {
     "data": {
      "text/plain": [
       "3-element Vector{Matrix{Float64}}:\n",
       " [5.551115123125783e-16 5.551115123125783e-16; 8.881784197001252e-16 1.5543122344752192e-15]\n",
       " [0.0 -1.1102230246251565e-16; 1.1102230246251565e-16 0.0]\n",
       " [0.0 0.0; 0.0 0.0]"
      ]
     },
     "metadata": {},
     "output_type": "display_data"
    }
   ],
   "source": [
    "b = [ rand(2,2) for i=1:3]\n",
    "x = M'\\b\n",
    "display(M'*x .- b)"
   ]
  },
  {
   "cell_type": "code",
   "execution_count": 11,
   "metadata": {},
   "outputs": [
    {
     "data": {
      "text/plain": [
       "3×3 Matrix{Operator}:\n",
       " I        𝒪        𝒪\n",
       " ℒ(2, 2)  I        𝒪\n",
       " 𝒪        ℒ(2, 2)  I"
      ]
     },
     "metadata": {},
     "output_type": "display_data"
    },
    {
     "data": {
      "text/plain": [
       "3-element Vector{Matrix{Float64}}:\n",
       " [0.7989756643763034 0.6994720043869942; 0.5311685550526586 0.01255536589723849]\n",
       " [0.31403510755864295 0.4690199335775955; 0.25807620647389595 0.09489516270599407]\n",
       " [0.6404782426750693 0.09882041926930252; 0.32987698776175767 0.6856711146275344]"
      ]
     },
     "metadata": {},
     "output_type": "display_data"
    },
    {
     "data": {
      "text/plain": [
       "3-element Vector{Matrix{Float64}}:\n",
       " [3.3306690738754696e-16 -2.220446049250313e-16; 4.440892098500626e-16 1.1102230246251565e-16]\n",
       " [0.0 0.0; 2.220446049250313e-16 1.1102230246251565e-16]\n",
       " [0.0 0.0; 0.0 0.0]"
      ]
     },
     "metadata": {},
     "output_type": "display_data"
    },
    {
     "data": {
      "text/plain": [
       "3×3 Matrix{Operator}:\n",
       " (I)'  (ℒ(2, 2))'  𝒪\n",
       " 𝒪     (I)'        (ℒ(2, 2))'\n",
       " 𝒪     𝒪           (I)'"
      ]
     },
     "metadata": {},
     "output_type": "display_data"
    },
    {
     "data": {
      "text/plain": [
       "3-element Vector{Matrix{Float64}}:\n",
       " [0.0 0.0; 0.0 0.0]\n",
       " [0.0 0.0; -2.220446049250313e-16 1.1102230246251565e-16]\n",
       " [0.0 2.220446049250313e-16; -3.3306690738754696e-16 7.771561172376096e-16]"
      ]
     },
     "execution_count": 11,
     "metadata": {},
     "output_type": "execute_result"
    }
   ],
   "source": [
    "M = Bidiagonal( [ℐ(),ℐ(),ℐ()] , [ℒ(B),ℒ(B)], :L)\n",
    "display(Matrix(M))\n",
    "\n",
    "b = [ rand(2,2) for i=1:3]\n",
    "display(b)\n",
    "x = M'\\b\n",
    "display(M'*x .- b)\n",
    "display(Matrix(M'))\n",
    "\n",
    "x = M\\b\n",
    "M*x .- b"
   ]
  },
  {
   "cell_type": "markdown",
   "metadata": {},
   "source": [
    "## Simple neural net"
   ]
  },
  {
   "cell_type": "code",
   "execution_count": 12,
   "metadata": {},
   "outputs": [
    {
     "data": {
      "text/plain": [
       "neural_net (generic function with 1 method)"
      ]
     },
     "execution_count": 12,
     "metadata": {},
     "output_type": "execute_result"
    }
   ],
   "source": [
    "\n",
    "using OffsetArrays\n",
    "\n",
    "h(x) =   exp(-x) # sample activation function\n",
    "h′(x) = -exp(-x)\n",
    "\n",
    "function neural_net(params,X₀;h=h,h′= h′)\n",
    "    T = Matrix{Float64}\n",
    "    N = length(params)\n",
    "    X = OffsetArray(Vector{T}(undef,N+1),0:N)   \n",
    "    Δ = Vector{T}(undef, N)\n",
    "    X[0] = X₀\n",
    "    W = first.(params)\n",
    "    B = last.(params)\n",
    "    \n",
    "    for i=1:N         \n",
    "          X[i] =  h.(W[i]*X[i-1] .+ B[i])\n",
    "          Δ[i] =  h′.(W[i]*X[i-1] .+ B[i])        \n",
    "    end \n",
    "    X,Δ\n",
    "end"
   ]
  },
  {
   "cell_type": "markdown",
   "metadata": {},
   "source": [
    "## Initialization"
   ]
  },
  {
   "cell_type": "code",
   "execution_count": 13,
   "metadata": {},
   "outputs": [
    {
     "data": {
      "text/plain": [
       "([[0.01536138736216281 -0.002314957826792751 … 0.020699928039031375 -0.001560105073194762; 0.010476390104891467 -0.008457502061483999 … -0.013546234943512097 -0.007066433661190142; … ; -0.006540327026442212 -0.006982291795113741 … -0.0030033981904397595 -0.001268490286921531; -0.0021095578949297763 -0.017616786901637062 … 4.75613262723907e-5 0.005913323893731996], [1.0289516925427873 1.029373895976944 … 1.0294730999166006 1.0292794488301014; 0.9996859250591988 1.000223016684299 … 0.9999180189433828 0.999824347831108; 0.9915757042160019 0.9910621032639018 … 0.9912983673217222 0.9913323742763019; 0.9979042086139535 0.9981963246818899 … 0.9979728157458967 0.9980208819551164], [0.9677247503863952 0.9677100387282893 … 0.9677104992857102 0.9677164621391825; 0.9815164201430002 0.9815027310748933 … 0.9815084605595764 0.9815112758336031; 0.9372514452476292 0.9372418807660071 … 0.9372460457704974 0.9372482889386496], [1.0155963713371663 1.0155962390209345 … 1.0155962817270692 1.0155963208462546]], [[-1.0289516925427873 -1.029373895976944 … -1.0294730999166006 -1.0292794488301014; -0.9996859250591988 -1.000223016684299 … -0.9999180189433828 -0.999824347831108; -0.9915757042160019 -0.9910621032639018 … -0.9912983673217222 -0.9913323742763019; -0.9979042086139535 -0.9981963246818899 … -0.9979728157458967 -0.9980208819551164], [-0.9677247503863952 -0.9677100387282893 … -0.9677104992857102 -0.9677164621391825; -0.9815164201430002 -0.9815027310748933 … -0.9815084605595764 -0.9815112758336031; -0.9372514452476292 -0.9372418807660071 … -0.9372460457704974 -0.9372482889386496], [-1.0155963713371663 -1.0155962390209345 … -1.0155962817270692 -1.0155963208462546]])"
      ]
     },
     "execution_count": 13,
     "metadata": {},
     "output_type": "execute_result"
    }
   ],
   "source": [
    "n = [5,4,3,1]  ## this contains [n₀...n_N]\n",
    "k = 10 # batchsize\n",
    "N = length(n)-1 #should be positive\n",
    "init(sizes...) = 0.01randn(sizes...)\n",
    "Ws_and_bs =[ [init(n[i+1],n[i]) , init(n[i+1])]  for i=1:N] # The second part of the pair is a vector here\n",
    "X₀ = init(n[1],k)\n",
    "y  =  init(n[end],k); #  y is what we will compare X_N against\n",
    "X,δ = neural_net(Ws_and_bs,X₀) # This has all the X's and δ's\n",
    "\n",
    "𝓁(x,y) = sum(abs2,x-y)/2 #loss\n",
    "𝓁′(x,y) = x.-y;\n",
    "\n",
    "X,δ = neural_net(Ws_and_bs,X₀) # Run the neural net"
   ]
  },
  {
   "cell_type": "code",
   "execution_count": 14,
   "metadata": {},
   "outputs": [
    {
     "data": {
      "text/plain": [
       "3-element Vector{Vector{Matrix{Float64}}}:\n",
       " [[-0.0005507048434324012 -0.002954605361634197 … -0.0021617393912444303 0.024105599491719233; -0.007201549906450708 -0.005798743711922766 … -0.005987007331756691 -0.0014967275206959386; 0.004667319144206612 0.008033548688638339 … -0.00920714285576457 -0.008944785950421051; -0.01843784492012828 0.01033725775087447 … -0.003364824898193327 -0.013716445373529408], [0.006114646866216294 -0.022051379823206648 … 0.013577035427275112 0.0053404827445425376; -0.013970326915209042 -0.012531482202913958 … 0.007638271152535179 0.0056419388939410176; 0.005198598185988518 -0.017987485974699912 … -0.0032390950096365134 0.0020429268392451933; -0.020519093399548428 0.004838396429833115 … -0.013609733039085345 -0.018637985797441248]]\n",
       " [[0.006978847243198999 -0.014090763339538242 0.0055360825342700435 -0.015170015288024133; -0.016542690293549257 -0.009798857449634619 0.0028839905998063694 0.006083334597206355; -0.007145565033504457 -0.0018287662567956081 0.0028875639551746157 -0.001372084809826023], [-0.016377650528764498 0.025709584931830416 … 0.010435999917225167 0.004225198564767241; 0.008044198805473558 -0.03228546527430458 … -0.012421675283728553 0.015850626166014313; 0.0005134421960962037 0.010242798592906662 … -0.0018125562208643614 0.01140578755852495]]\n",
       " [[-0.00417294325896764 0.012651742872231196 0.005856821802099668], [0.006475050473180535 -0.0015788829149969957 … 0.00021734515490854855 -0.011624959356717033]]"
      ]
     },
     "execution_count": 14,
     "metadata": {},
     "output_type": "execute_result"
    }
   ],
   "source": [
    "# params: `W_i` and `b_i`s: x_{i+1} <- Wi*x_i .+ b_i\n",
    "Ws_and_bs =[ [init(n[i+1],n[i]) , init(n[i+1],k)]  for i=1:N] # The second part of the pair is a vector here\n",
    "X₀ = init(n[1],k)\n",
    "y  =  init(n[end],k); #  y is what we will compare X_N against\n",
    "Ws_and_bs"
   ]
  },
  {
   "cell_type": "markdown",
   "metadata": {},
   "source": [
    "## Backward diff a neural net with operators"
   ]
  },
  {
   "cell_type": "code",
   "execution_count": 15,
   "metadata": {},
   "outputs": [
    {
     "data": {
      "text/plain": [
       "3-element Vector{Matrix{Matrix{Float64}}}:\n",
       " [[1.0286819188787345e-5 3.215460079552901e-6 … 3.7573252772455435e-6 -1.0968426082959141e-5; 2.8435813156522987e-6 8.143338304044974e-7 … 1.0444310268757361e-6 -3.0119523610083738e-6; -1.1319060059331868e-6 -3.207423186095412e-7 … -4.013625057925409e-7 1.2031717005068582e-6; -4.758831779038058e-6 -1.7364278479442322e-6 … -1.795112884836171e-6 5.190770250494352e-6]; [0.0002672661438335817 0.0002894618065930421 … 0.0002733363906652754 0.00027699570537750677; 7.224155869596787e-5 8.16373604984508e-5 … 7.591731344627279e-5 7.420628475019315e-5; -2.8273221676613997e-5 -3.2072248197002204e-5 … -3.0368534427706324e-5 -2.9680145344976655e-5; -0.00013075903822587598 -0.00013153043379239058 … -0.00013182725987008416 -0.00013451248342336104];;]\n",
       " [[-0.04113640592180197 -0.04123927200642847 -0.04133843091458516 -0.041554851115670796; 0.12483598457302274 0.12512539755506355 0.12544251018283753 0.12606864679045796; 0.057074680540890134 0.05721224311936387 0.05735449794724809 0.05764933300458063]; [-0.004094197749901787 -0.004027811406276962 … -0.00405154823579138 -0.00419193670931095; 0.01211316153705511 0.012956996044198562 … 0.012568707927376818 0.01256412652348706; 0.005594698351266098 0.005689709332385817 … 0.005701786264200701 0.005785866246860202];;]\n",
       " [[-9.880277393594783 -9.887448558450677 -9.766345536758656]; [-0.9486094653853903 -0.9740536455285771 … -0.9646381079118291 -0.9918085681531514];;]"
      ]
     },
     "execution_count": 15,
     "metadata": {},
     "output_type": "execute_result"
    }
   ],
   "source": [
    "X,δ = neural_net(Ws_and_bs,X₀) # This has all the X's and δ's\n",
    "\n",
    "## The diagonal matrix\n",
    "M = Diagonal([ [ℋ(δ[i]) ∘ ℛ(X[i-1])  ℋ(δ[i])] for i=1:N])\n",
    "\n",
    "## The lower triangular matrix (I-L)\n",
    "ImL = Bidiagonal([ℐ() for i in 1:N], -[ℋ(δ[i]) ∘ ℒ(Ws_and_bs[i][1]) for i=2:N] , :L)\n",
    "\n",
    "## gradient of the loss function\n",
    "g = [ fill(𝒪,N-1) ; [𝓁′(X[N],y)] ] \n",
    "\n",
    "## The gradient\n",
    "∇J = M' * (ImL' \\ g)"
   ]
  },
  {
   "cell_type": "code",
   "execution_count": 16,
   "metadata": {},
   "outputs": [],
   "source": [
    "#∇Jfd is the gradient calculated with finite differences method\n",
    "∇Jfd = Ws_and_bs*0\n",
    "ϵ = Ws_and_bs*0\n",
    "𝜀 = .0001\n",
    "for i=1:length(Ws_and_bs), wb=1:2\n",
    "    for j=1:length(ϵ[i][wb])\n",
    "        ϵ[i][wb][j] = 𝜀\n",
    "        ∇Jfd[i][wb][j] = (𝓁(neural_net(Ws_and_bs+ϵ,X₀)[1][N],y).-𝓁(neural_net(Ws_and_bs-ϵ,X₀)[1][N],y))/2𝜀\n",
    "        ϵ[i][wb][j] = .0\n",
    "  end\n",
    " end"
   ]
  },
  {
   "cell_type": "code",
   "execution_count": 17,
   "metadata": {},
   "outputs": [
    {
     "data": {
      "text/plain": [
       "flatten (generic function with 1 method)"
      ]
     },
     "execution_count": 17,
     "metadata": {},
     "output_type": "execute_result"
    }
   ],
   "source": [
    "flatten(J) = vcat((x->x[:]).(vcat(J...))...)"
   ]
  },
  {
   "cell_type": "code",
   "execution_count": 18,
   "metadata": {},
   "outputs": [
    {
     "data": {
      "text/plain": [
       "1.1874460779648005e-7"
      ]
     },
     "execution_count": 18,
     "metadata": {},
     "output_type": "execute_result"
    }
   ],
   "source": [
    "norm(flatten(∇J)-flatten(∇Jfd))"
   ]
  },
  {
   "cell_type": "code",
   "execution_count": null,
   "metadata": {},
   "outputs": [],
   "source": []
  }
 ],
 "metadata": {
  "@webio": {
   "lastCommId": null,
   "lastKernelId": null
  },
  "kernelspec": {
   "display_name": "Julia 1.7 1.7.1",
   "language": "julia",
   "name": "julia-1.7-1.7"
  },
  "language_info": {
   "file_extension": ".jl",
   "mimetype": "application/julia",
   "name": "julia",
   "version": "1.7.1"
  }
 },
 "nbformat": 4,
 "nbformat_minor": 4
}
