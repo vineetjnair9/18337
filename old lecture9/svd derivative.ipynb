{
 "cells": [
  {
   "cell_type": "code",
   "execution_count": 5,
   "metadata": {},
   "outputs": [],
   "source": [
    " using ForwardDiff, GenericLinearAlgebra, LinearAlgebra"
   ]
  },
  {
   "cell_type": "code",
   "execution_count": 2,
   "metadata": {},
   "outputs": [],
   "source": [
    "using Pkg"
   ]
  },
  {
   "cell_type": "code",
   "execution_count": 3,
   "metadata": {},
   "outputs": [
    {
     "name": "stderr",
     "output_type": "stream",
     "text": [
      "\u001b[32m\u001b[1m    Updating\u001b[22m\u001b[39m registry at `~/.julia/registries/General`\n",
      "┌ Error: Some registries failed to update:\n",
      "│     — `~/.julia/registries/General` — registry dirty\n",
      "└ @ Pkg.Registry /Users/julia/buildbot/worker/package_macos64/build/usr/share/julia/stdlib/v1.7/Pkg/src/Registry/Registry.jl:450\n",
      "\u001b[32m\u001b[1m   Resolving\u001b[22m\u001b[39m package versions...\n",
      "\u001b[32m\u001b[1m  No Changes\u001b[22m\u001b[39m to `~/.julia/environments/v1.7/Project.toml`\n",
      "\u001b[32m\u001b[1m  No Changes\u001b[22m\u001b[39m to `~/.julia/environments/v1.7/Manifest.toml`\n"
     ]
    }
   ],
   "source": [
    "Pkg.add(\"ForwardDiff\")"
   ]
  },
  {
   "cell_type": "code",
   "execution_count": 4,
   "metadata": {},
   "outputs": [
    {
     "name": "stderr",
     "output_type": "stream",
     "text": [
      "\u001b[32m\u001b[1m   Resolving\u001b[22m\u001b[39m package versions...\n",
      "\u001b[32m\u001b[1m    Updating\u001b[22m\u001b[39m `~/.julia/environments/v1.7/Project.toml`\n",
      " \u001b[90m [14197337] \u001b[39m\u001b[92m+ GenericLinearAlgebra v0.2.5\u001b[39m\n",
      "\u001b[32m\u001b[1m    Updating\u001b[22m\u001b[39m `~/.julia/environments/v1.7/Manifest.toml`\n",
      " \u001b[90m [14197337] \u001b[39m\u001b[92m+ GenericLinearAlgebra v0.2.5\u001b[39m\n",
      "\u001b[32m\u001b[1mPrecompiling\u001b[22m\u001b[39m project...\n",
      "\u001b[32m  ✓ \u001b[39mGenericLinearAlgebra\n",
      "  1 dependency successfully precompiled in 2 seconds (277 already precompiled, 1 skipped during auto due to previous errors)\n"
     ]
    }
   ],
   "source": [
    "Pkg.add(\"GenericLinearAlgebra\")"
   ]
  },
  {
   "cell_type": "markdown",
   "metadata": {},
   "source": [
    "## Singular Value Decomposition\n",
    "$$ dA = \\prod_{i < j} |\\sigma_i^2 - \\sigma_j^2| \\prod_i\\sigma_i^{m-n}(H'dU)^\\wedge(d\\Sigma)^\\wedge (V'dV)^\\wedge $$"
   ]
  },
  {
   "cell_type": "code",
   "execution_count": 6,
   "metadata": {},
   "outputs": [
    {
     "data": {
      "text/plain": [
       "check_svd (generic function with 1 method)"
      ]
     },
     "execution_count": 6,
     "metadata": {},
     "output_type": "execute_result"
    }
   ],
   "source": [
    "function sv_prod(σ)\n",
    "    n = length(σ)\n",
    "    abs(prod([σ[i]^2 - σ[j]^2 for i in 1:n, j in 1:n if i<j]))   \n",
    "end\n",
    "\n",
    "function check_svd(x)\n",
    "    H, σ, V = svd(x, full=false)\n",
    "  \n",
    "    JU = ForwardDiff.jacobian(t -> svd(t).U, x)\n",
    "    Jσ = ForwardDiff.jacobian(t -> svd(t).S, x)\n",
    "    JV = ForwardDiff.jacobian(t -> copy(svd(t).V), x)\n",
    "\n",
    "    Uk    = kron(Matrix(I, size(x)), H') * JU   \n",
    "    Vk    = kron(Matrix(I, size(V)), V') * JV\n",
    "    rowsU = vec((tril(ones(size(x)), -1))) .== 1\n",
    "    rowsV = vec((tril(ones(size(V)), -1))) .== 1\n",
    "\n",
    "    Uk = Uk[rowsU, :]\n",
    "    Vk = Vk[rowsV, :]\n",
    "    m, n = size(x)\n",
    "    (abs(det(vcat( Jσ, Uk, Vk))) , 1/(sv_prod(σ)*prod(σ)^(m - n) ))\n",
    "end"
   ]
  },
  {
   "cell_type": "code",
   "execution_count": 11,
   "metadata": {},
   "outputs": [
    {
     "data": {
      "text/plain": [
       "(0.19947988709616224, 0.1994798870961451)"
      ]
     },
     "execution_count": 11,
     "metadata": {},
     "output_type": "execute_result"
    }
   ],
   "source": [
    "x = randn(3,3)\n",
    "check_svd(x)"
   ]
  },
  {
   "cell_type": "code",
   "execution_count": null,
   "metadata": {},
   "outputs": [],
   "source": []
  },
  {
   "cell_type": "code",
   "execution_count": null,
   "metadata": {},
   "outputs": [],
   "source": []
  },
  {
   "cell_type": "code",
   "execution_count": null,
   "metadata": {},
   "outputs": [],
   "source": []
  }
 ],
 "metadata": {
  "@webio": {
   "lastCommId": null,
   "lastKernelId": null
  },
  "kernelspec": {
   "display_name": "Julia 1.7 1.7.1",
   "language": "julia",
   "name": "julia-1.7-1.7"
  },
  "language_info": {
   "file_extension": ".jl",
   "mimetype": "application/julia",
   "name": "julia",
   "version": "1.7.1"
  }
 },
 "nbformat": 4,
 "nbformat_minor": 4
}
