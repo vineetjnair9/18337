{
 "cells": [
  {
   "cell_type": "code",
   "execution_count": 1,
   "metadata": {},
   "outputs": [],
   "source": [
    "using ForwardDiff, GenericLinearAlgebra, LinearAlgebra"
   ]
  },
  {
   "cell_type": "markdown",
   "metadata": {},
   "source": [
    "## Generalized SVD\n",
    "$$ d([A;B]) = \\prod_{i<j}|c_i^2 - c_j^2|\\prod_i c_i^{m_1 - n} s_i^{m_2 - n}|H|^{(m_1+m_2-n)}(U'dU)^\\wedge (V'd V)^\\wedge(d\\Theta)^\\wedge (dH)^\\wedge $$"
   ]
  },
  {
   "cell_type": "code",
   "execution_count": 2,
   "metadata": {},
   "outputs": [
    {
     "data": {
      "text/plain": [
       "gsvd (generic function with 1 method)"
      ]
     },
     "execution_count": 2,
     "metadata": {},
     "output_type": "execute_result"
    }
   ],
   "source": [
    "function gsvd(AB,m₁)  # gsvd computation\n",
    "    A = AB[1:m₁, :]\n",
    "    B = AB[(m₁ + 1):end,:]\n",
    "    n = size(A, 2)\n",
    "    U, σ, V = svd(A*pinv(B))\n",
    "    U = U[:, 1:n]\n",
    "    V = V[:, 1:n]\n",
    "    θ = acot.(σ[1:n])\n",
    "    H = (cos.(θ)) .\\ (U'A)    \n",
    "    U, V, θ, H\n",
    "end"
   ]
  },
  {
   "cell_type": "code",
   "execution_count": 3,
   "metadata": {},
   "outputs": [
    {
     "data": {
      "text/plain": [
       "gsvd_auto (generic function with 1 method)"
      ]
     },
     "execution_count": 3,
     "metadata": {},
     "output_type": "execute_result"
    }
   ],
   "source": [
    "function gsvd_auto(A,B)\n",
    "    m₁, n = size(A)\n",
    "    AB = [A; B]\n",
    "    JU, JV, Jθ, JH = (ForwardDiff.jacobian(x -> gsvd(x, m₁)[i], AB) for i in 1:4)\n",
    "    U, σ, V = svd(A*pinv(B), full=true)\n",
    "    θ = acot.(σ[1:n])  \n",
    "    Uk = kron(Matrix(I, n, n), U') * JU   \n",
    "    Vk = kron(Matrix(I, n, n), V') * JV    \n",
    "    rowsU = vec((tril(ones(m₁, n),-1))) .==1\n",
    "    rowsV = vec((tril(ones(m₂, n),-1))) .==1    \n",
    "    Uk = Uk[rowsU, :]\n",
    "    Vk = Vk[rowsV, :]   \n",
    "    1/abs(det( [Jθ;JH;Uk;Vk] )) \n",
    "end"
   ]
  },
  {
   "cell_type": "code",
   "execution_count": 4,
   "metadata": {},
   "outputs": [
    {
     "data": {
      "text/plain": [
       "290466.92782096186"
      ]
     },
     "execution_count": 4,
     "metadata": {},
     "output_type": "execute_result"
    }
   ],
   "source": [
    "m₁, m₂, n = 5, 4, 4\n",
    "A = randn(m₁,n)\n",
    "B = randn(m₂,n)\n",
    "U, V, θ, H = gsvd([A;B], size(A,1))\n",
    "c = cos.(θ)\n",
    "s = sin.(θ)\n",
    "gsvd_auto(A, B)   #  Experiment (theory below)"
   ]
  },
  {
   "cell_type": "markdown",
   "metadata": {},
   "source": [
    "$$  |H|^{(m_1+m_2-n)} \\prod_{i<j}|c_i^2 - c_j^2|\\prod_i c_i^{m_1 - n} s_i^{m_2 - n} $$"
   ]
  },
  {
   "cell_type": "code",
   "execution_count": 5,
   "metadata": {},
   "outputs": [
    {
     "data": {
      "text/plain": [
       "290466.9278209635"
      ]
     },
     "execution_count": 5,
     "metadata": {},
     "output_type": "execute_result"
    }
   ],
   "source": [
    "abs(det(H)^(m₁ + m₂ - n) * prod([c[i]^2 - c[j]^2 for i in 1:n, j in 1:n if i<j]))*prod(c)^(m₁ - n)*prod(s)^(m₂ - n)"
   ]
  }
 ],
 "metadata": {
  "@webio": {
   "lastCommId": null,
   "lastKernelId": null
  },
  "kernelspec": {
   "display_name": "Julia 1.5.2",
   "language": "julia",
   "name": "julia-1.5"
  },
  "language_info": {
   "file_extension": ".jl",
   "mimetype": "application/julia",
   "name": "julia",
   "version": "1.5.2"
  }
 },
 "nbformat": 4,
 "nbformat_minor": 4
}
